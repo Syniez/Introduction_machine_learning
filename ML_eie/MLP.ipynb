{
  "nbformat": 4,
  "nbformat_minor": 0,
  "metadata": {
    "colab": {
      "name": "mlp.ipynb",
      "provenance": [],
      "collapsed_sections": []
    },
    "kernelspec": {
      "name": "python3",
      "display_name": "Python 3"
    }
  },
  "cells": [
    {
      "cell_type": "code",
      "metadata": {
        "id": "itbBOIISUOav"
      },
      "source": [
        "import matplotlib.pyplot as plt\n",
        "import tensorflow as tf\n",
        "import pandas as pd\n",
        "import numpy as np\n",
        "import sklearn\n",
        "import random\n",
        "\n",
        "from google.colab import drive\n",
        "from sklearn.model_selection import train_test_split\n",
        "from tensorflow.keras.utils import to_categorical\n",
        "from tensorflow.keras.models import Sequential\n",
        "from tensorflow.keras import models, layers\n",
        "from tensorflow.keras import optimizers"
      ],
      "execution_count": null,
      "outputs": []
    },
    {
      "cell_type": "code",
      "metadata": {
        "id": "XGVBpPeGUZ7y",
        "colab": {
          "base_uri": "https://localhost:8080/"
        },
        "outputId": "6062c22e-9ab1-45a5-b4b5-fddde782262f"
      },
      "source": [
        "# 데이터파일 불러오기\n",
        "drive.mount('/gdrive')\n",
        "df = pd.read_csv('/gdrive/My Drive/ML_전기/텀프/image-10k.csv', header=None)\n",
        "\n",
        "X = df.iloc[:, 1:].values     # 데이터샘플\n",
        "y = df.iloc[:, 0].values      # 타겟레이블\n",
        "\n",
        "x_train, x_test, y_train, y_test = train_test_split(X, y, test_size=0.5, random_state=1, stratify=y)"
      ],
      "execution_count": null,
      "outputs": [
        {
          "output_type": "stream",
          "name": "stdout",
          "text": [
            "Drive already mounted at /gdrive; to attempt to forcibly remount, call drive.mount(\"/gdrive\", force_remount=True).\n"
          ]
        }
      ]
    },
    {
      "cell_type": "code",
      "metadata": {
        "id": "wGjkLjKUvRrq"
      },
      "source": [
        "# Data preprocessing\n",
        "x_train = x_train / 255.\n",
        "x_test = x_test / 255.\n",
        "\n",
        "y_train = to_categorical(y = y_train, num_classes = 10)\n",
        "y_test = to_categorical(y = y_test, num_classes = 10)"
      ],
      "execution_count": null,
      "outputs": []
    },
    {
      "cell_type": "code",
      "metadata": {
        "colab": {
          "base_uri": "https://localhost:8080/"
        },
        "id": "Kuvgrc5ixEuD",
        "outputId": "4d6fde3c-74e9-4b25-d7db-2d0abfc1ea41"
      },
      "source": [
        "# Buld model (Keras ver.)\n",
        "model = Sequential()\n",
        "model.add(layers.Dense(units = 512, activation = 'relu', input_shape = (28*28,)))\n",
        "model.add(layers.Dense(units = 10))\n",
        "\n",
        "Adam = optimizers.Adam(learning_rate = 0.001)\n",
        "model.compile(optimizer = Adam, loss = tf.keras.losses.CategoricalCrossentropy(from_logits=True), metrics = ['accuracy'])\n",
        "history = model.fit(x_train, y_train, batch_size = 50, validation_split = .3, epochs = 80)"
      ],
      "execution_count": null,
      "outputs": [
        {
          "output_type": "stream",
          "name": "stdout",
          "text": [
            "Epoch 1/80\n",
            "70/70 [==============================] - 1s 11ms/step - loss: 0.8619 - accuracy: 0.7043 - val_loss: 0.6499 - val_accuracy: 0.7747\n",
            "Epoch 2/80\n",
            "70/70 [==============================] - 1s 8ms/step - loss: 0.5684 - accuracy: 0.8020 - val_loss: 0.5351 - val_accuracy: 0.8207\n",
            "Epoch 3/80\n",
            "70/70 [==============================] - 1s 8ms/step - loss: 0.5131 - accuracy: 0.8200 - val_loss: 0.5663 - val_accuracy: 0.8100\n",
            "Epoch 4/80\n",
            "70/70 [==============================] - 1s 8ms/step - loss: 0.4530 - accuracy: 0.8377 - val_loss: 0.5617 - val_accuracy: 0.8087\n",
            "Epoch 5/80\n",
            "70/70 [==============================] - 1s 8ms/step - loss: 0.4160 - accuracy: 0.8517 - val_loss: 0.4939 - val_accuracy: 0.8287\n",
            "Epoch 6/80\n",
            "70/70 [==============================] - 1s 9ms/step - loss: 0.3781 - accuracy: 0.8649 - val_loss: 0.4917 - val_accuracy: 0.8287\n",
            "Epoch 7/80\n",
            "70/70 [==============================] - 1s 8ms/step - loss: 0.3504 - accuracy: 0.8771 - val_loss: 0.4991 - val_accuracy: 0.8360\n",
            "Epoch 8/80\n",
            "70/70 [==============================] - 1s 8ms/step - loss: 0.3122 - accuracy: 0.8891 - val_loss: 0.4678 - val_accuracy: 0.8460\n",
            "Epoch 9/80\n",
            "70/70 [==============================] - 1s 8ms/step - loss: 0.2989 - accuracy: 0.8951 - val_loss: 0.4918 - val_accuracy: 0.8307\n",
            "Epoch 10/80\n",
            "70/70 [==============================] - 1s 9ms/step - loss: 0.2811 - accuracy: 0.8969 - val_loss: 0.5963 - val_accuracy: 0.7973\n",
            "Epoch 11/80\n",
            "70/70 [==============================] - 1s 9ms/step - loss: 0.3159 - accuracy: 0.8874 - val_loss: 0.5147 - val_accuracy: 0.8187\n",
            "Epoch 12/80\n",
            "70/70 [==============================] - 1s 9ms/step - loss: 0.2529 - accuracy: 0.9060 - val_loss: 0.4783 - val_accuracy: 0.8380\n",
            "Epoch 13/80\n",
            "70/70 [==============================] - 1s 9ms/step - loss: 0.2615 - accuracy: 0.9051 - val_loss: 0.5289 - val_accuracy: 0.8320\n",
            "Epoch 14/80\n",
            "70/70 [==============================] - 1s 8ms/step - loss: 0.2241 - accuracy: 0.9197 - val_loss: 0.4563 - val_accuracy: 0.8507\n",
            "Epoch 15/80\n",
            "70/70 [==============================] - 1s 8ms/step - loss: 0.2085 - accuracy: 0.9300 - val_loss: 0.4782 - val_accuracy: 0.8340\n",
            "Epoch 16/80\n",
            "70/70 [==============================] - 1s 8ms/step - loss: 0.2066 - accuracy: 0.9291 - val_loss: 0.5175 - val_accuracy: 0.8307\n",
            "Epoch 17/80\n",
            "70/70 [==============================] - 1s 8ms/step - loss: 0.2081 - accuracy: 0.9297 - val_loss: 0.4997 - val_accuracy: 0.8427\n",
            "Epoch 18/80\n",
            "70/70 [==============================] - 1s 8ms/step - loss: 0.1689 - accuracy: 0.9397 - val_loss: 0.5095 - val_accuracy: 0.8380\n",
            "Epoch 19/80\n",
            "70/70 [==============================] - 1s 7ms/step - loss: 0.1678 - accuracy: 0.9380 - val_loss: 0.5023 - val_accuracy: 0.8420\n",
            "Epoch 20/80\n",
            "70/70 [==============================] - 1s 7ms/step - loss: 0.1531 - accuracy: 0.9486 - val_loss: 0.5093 - val_accuracy: 0.8533\n",
            "Epoch 21/80\n",
            "70/70 [==============================] - 1s 7ms/step - loss: 0.1439 - accuracy: 0.9517 - val_loss: 0.4751 - val_accuracy: 0.8560\n",
            "Epoch 22/80\n",
            "70/70 [==============================] - 1s 7ms/step - loss: 0.1427 - accuracy: 0.9523 - val_loss: 0.4855 - val_accuracy: 0.8507\n",
            "Epoch 23/80\n",
            "70/70 [==============================] - 1s 8ms/step - loss: 0.1372 - accuracy: 0.9543 - val_loss: 0.4919 - val_accuracy: 0.8507\n",
            "Epoch 24/80\n",
            "70/70 [==============================] - 1s 7ms/step - loss: 0.1253 - accuracy: 0.9551 - val_loss: 0.5073 - val_accuracy: 0.8527\n",
            "Epoch 25/80\n",
            "70/70 [==============================] - 1s 8ms/step - loss: 0.1263 - accuracy: 0.9583 - val_loss: 0.5079 - val_accuracy: 0.8513\n",
            "Epoch 26/80\n",
            "70/70 [==============================] - 1s 8ms/step - loss: 0.1215 - accuracy: 0.9583 - val_loss: 0.5063 - val_accuracy: 0.8620\n",
            "Epoch 27/80\n",
            "70/70 [==============================] - 1s 8ms/step - loss: 0.1114 - accuracy: 0.9623 - val_loss: 0.5145 - val_accuracy: 0.8547\n",
            "Epoch 28/80\n",
            "70/70 [==============================] - 1s 7ms/step - loss: 0.0983 - accuracy: 0.9709 - val_loss: 0.5495 - val_accuracy: 0.8533\n",
            "Epoch 29/80\n",
            "70/70 [==============================] - 1s 8ms/step - loss: 0.1344 - accuracy: 0.9551 - val_loss: 0.5285 - val_accuracy: 0.8513\n",
            "Epoch 30/80\n",
            "70/70 [==============================] - 1s 8ms/step - loss: 0.1036 - accuracy: 0.9637 - val_loss: 0.5461 - val_accuracy: 0.8447\n",
            "Epoch 31/80\n",
            "70/70 [==============================] - 1s 8ms/step - loss: 0.0983 - accuracy: 0.9669 - val_loss: 0.5441 - val_accuracy: 0.8467\n",
            "Epoch 32/80\n",
            "70/70 [==============================] - 1s 8ms/step - loss: 0.0919 - accuracy: 0.9711 - val_loss: 0.5585 - val_accuracy: 0.8520\n",
            "Epoch 33/80\n",
            "70/70 [==============================] - 1s 9ms/step - loss: 0.0832 - accuracy: 0.9711 - val_loss: 0.5420 - val_accuracy: 0.8507\n",
            "Epoch 34/80\n",
            "70/70 [==============================] - 1s 8ms/step - loss: 0.0791 - accuracy: 0.9751 - val_loss: 0.6266 - val_accuracy: 0.8340\n",
            "Epoch 35/80\n",
            "70/70 [==============================] - 1s 8ms/step - loss: 0.0832 - accuracy: 0.9731 - val_loss: 0.6045 - val_accuracy: 0.8433\n",
            "Epoch 36/80\n",
            "70/70 [==============================] - 1s 9ms/step - loss: 0.0879 - accuracy: 0.9731 - val_loss: 0.5588 - val_accuracy: 0.8513\n",
            "Epoch 37/80\n",
            "70/70 [==============================] - 1s 8ms/step - loss: 0.0847 - accuracy: 0.9706 - val_loss: 0.5823 - val_accuracy: 0.8553\n",
            "Epoch 38/80\n",
            "70/70 [==============================] - 1s 7ms/step - loss: 0.0870 - accuracy: 0.9703 - val_loss: 0.5494 - val_accuracy: 0.8547\n",
            "Epoch 39/80\n",
            "70/70 [==============================] - 1s 9ms/step - loss: 0.0624 - accuracy: 0.9800 - val_loss: 0.5978 - val_accuracy: 0.8520\n",
            "Epoch 40/80\n",
            "70/70 [==============================] - 1s 7ms/step - loss: 0.0600 - accuracy: 0.9811 - val_loss: 0.5794 - val_accuracy: 0.8547\n",
            "Epoch 41/80\n",
            "70/70 [==============================] - 1s 7ms/step - loss: 0.0483 - accuracy: 0.9854 - val_loss: 0.6078 - val_accuracy: 0.8480\n",
            "Epoch 42/80\n",
            "70/70 [==============================] - 1s 7ms/step - loss: 0.0480 - accuracy: 0.9863 - val_loss: 0.6103 - val_accuracy: 0.8493\n",
            "Epoch 43/80\n",
            "70/70 [==============================] - 1s 8ms/step - loss: 0.0488 - accuracy: 0.9860 - val_loss: 0.6173 - val_accuracy: 0.8547\n",
            "Epoch 44/80\n",
            "70/70 [==============================] - 1s 7ms/step - loss: 0.0499 - accuracy: 0.9869 - val_loss: 0.6157 - val_accuracy: 0.8513\n",
            "Epoch 45/80\n",
            "70/70 [==============================] - 1s 9ms/step - loss: 0.0462 - accuracy: 0.9854 - val_loss: 0.6040 - val_accuracy: 0.8580\n",
            "Epoch 46/80\n",
            "70/70 [==============================] - 1s 8ms/step - loss: 0.0475 - accuracy: 0.9851 - val_loss: 0.6456 - val_accuracy: 0.8447\n",
            "Epoch 47/80\n",
            "70/70 [==============================] - 1s 9ms/step - loss: 0.0582 - accuracy: 0.9817 - val_loss: 0.6358 - val_accuracy: 0.8540\n",
            "Epoch 48/80\n",
            "70/70 [==============================] - 1s 7ms/step - loss: 0.0474 - accuracy: 0.9866 - val_loss: 0.6187 - val_accuracy: 0.8500\n",
            "Epoch 49/80\n",
            "70/70 [==============================] - 1s 8ms/step - loss: 0.0480 - accuracy: 0.9840 - val_loss: 0.6446 - val_accuracy: 0.8487\n",
            "Epoch 50/80\n",
            "70/70 [==============================] - 1s 7ms/step - loss: 0.0355 - accuracy: 0.9900 - val_loss: 0.6456 - val_accuracy: 0.8453\n",
            "Epoch 51/80\n",
            "70/70 [==============================] - 1s 8ms/step - loss: 0.0270 - accuracy: 0.9937 - val_loss: 0.6736 - val_accuracy: 0.8440\n",
            "Epoch 52/80\n",
            "70/70 [==============================] - 1s 8ms/step - loss: 0.0266 - accuracy: 0.9917 - val_loss: 0.6378 - val_accuracy: 0.8553\n",
            "Epoch 53/80\n",
            "70/70 [==============================] - 1s 8ms/step - loss: 0.0197 - accuracy: 0.9951 - val_loss: 0.6975 - val_accuracy: 0.8447\n",
            "Epoch 54/80\n",
            "70/70 [==============================] - 1s 8ms/step - loss: 0.0284 - accuracy: 0.9914 - val_loss: 0.6650 - val_accuracy: 0.8547\n",
            "Epoch 55/80\n",
            "70/70 [==============================] - 1s 8ms/step - loss: 0.0342 - accuracy: 0.9900 - val_loss: 0.6911 - val_accuracy: 0.8440\n",
            "Epoch 56/80\n",
            "70/70 [==============================] - 1s 9ms/step - loss: 0.0500 - accuracy: 0.9851 - val_loss: 0.6452 - val_accuracy: 0.8507\n",
            "Epoch 57/80\n",
            "70/70 [==============================] - 1s 7ms/step - loss: 0.0288 - accuracy: 0.9911 - val_loss: 0.6726 - val_accuracy: 0.8553\n",
            "Epoch 58/80\n",
            "70/70 [==============================] - 1s 9ms/step - loss: 0.0265 - accuracy: 0.9926 - val_loss: 0.6593 - val_accuracy: 0.8607\n",
            "Epoch 59/80\n",
            "70/70 [==============================] - 1s 9ms/step - loss: 0.0166 - accuracy: 0.9974 - val_loss: 0.6664 - val_accuracy: 0.8560\n",
            "Epoch 60/80\n",
            "70/70 [==============================] - 1s 9ms/step - loss: 0.0131 - accuracy: 0.9980 - val_loss: 0.6904 - val_accuracy: 0.8533\n",
            "Epoch 61/80\n",
            "70/70 [==============================] - 1s 9ms/step - loss: 0.0120 - accuracy: 0.9986 - val_loss: 0.6932 - val_accuracy: 0.8607\n",
            "Epoch 62/80\n",
            "70/70 [==============================] - 1s 9ms/step - loss: 0.0124 - accuracy: 0.9980 - val_loss: 0.7014 - val_accuracy: 0.8560\n",
            "Epoch 63/80\n",
            "70/70 [==============================] - 1s 9ms/step - loss: 0.0119 - accuracy: 0.9974 - val_loss: 0.6867 - val_accuracy: 0.8593\n",
            "Epoch 64/80\n",
            "70/70 [==============================] - 1s 8ms/step - loss: 0.0157 - accuracy: 0.9951 - val_loss: 0.7510 - val_accuracy: 0.8507\n",
            "Epoch 65/80\n",
            "70/70 [==============================] - 1s 8ms/step - loss: 0.0326 - accuracy: 0.9909 - val_loss: 0.6912 - val_accuracy: 0.8507\n",
            "Epoch 66/80\n",
            "70/70 [==============================] - 1s 8ms/step - loss: 0.0359 - accuracy: 0.9883 - val_loss: 0.7393 - val_accuracy: 0.8440\n",
            "Epoch 67/80\n",
            "70/70 [==============================] - 1s 9ms/step - loss: 0.1067 - accuracy: 0.9643 - val_loss: 0.9358 - val_accuracy: 0.8233\n",
            "Epoch 68/80\n",
            "70/70 [==============================] - 1s 9ms/step - loss: 0.1445 - accuracy: 0.9549 - val_loss: 0.8908 - val_accuracy: 0.8120\n",
            "Epoch 69/80\n",
            "70/70 [==============================] - 1s 8ms/step - loss: 0.0608 - accuracy: 0.9803 - val_loss: 0.6715 - val_accuracy: 0.8533\n",
            "Epoch 70/80\n",
            "70/70 [==============================] - 1s 9ms/step - loss: 0.0329 - accuracy: 0.9903 - val_loss: 0.7680 - val_accuracy: 0.8347\n",
            "Epoch 71/80\n",
            "70/70 [==============================] - 1s 8ms/step - loss: 0.0316 - accuracy: 0.9903 - val_loss: 0.7437 - val_accuracy: 0.8420\n",
            "Epoch 72/80\n",
            "70/70 [==============================] - 1s 8ms/step - loss: 0.0236 - accuracy: 0.9946 - val_loss: 0.7206 - val_accuracy: 0.8460\n",
            "Epoch 73/80\n",
            "70/70 [==============================] - 1s 8ms/step - loss: 0.0108 - accuracy: 0.9991 - val_loss: 0.7050 - val_accuracy: 0.8613\n",
            "Epoch 74/80\n",
            "70/70 [==============================] - 1s 8ms/step - loss: 0.0090 - accuracy: 0.9991 - val_loss: 0.7488 - val_accuracy: 0.8573\n",
            "Epoch 75/80\n",
            "70/70 [==============================] - 1s 8ms/step - loss: 0.0094 - accuracy: 0.9989 - val_loss: 0.7270 - val_accuracy: 0.8613\n",
            "Epoch 76/80\n",
            "70/70 [==============================] - 1s 8ms/step - loss: 0.0072 - accuracy: 0.9991 - val_loss: 0.7373 - val_accuracy: 0.8613\n",
            "Epoch 77/80\n",
            "70/70 [==============================] - 1s 7ms/step - loss: 0.0051 - accuracy: 1.0000 - val_loss: 0.7468 - val_accuracy: 0.8600\n",
            "Epoch 78/80\n",
            "70/70 [==============================] - 1s 7ms/step - loss: 0.0040 - accuracy: 1.0000 - val_loss: 0.7519 - val_accuracy: 0.8593\n",
            "Epoch 79/80\n",
            "70/70 [==============================] - 1s 8ms/step - loss: 0.0036 - accuracy: 1.0000 - val_loss: 0.7519 - val_accuracy: 0.8613\n",
            "Epoch 80/80\n",
            "70/70 [==============================] - 1s 8ms/step - loss: 0.0044 - accuracy: 0.9997 - val_loss: 0.7505 - val_accuracy: 0.8627\n"
          ]
        }
      ]
    },
    {
      "cell_type": "code",
      "metadata": {
        "colab": {
          "base_uri": "https://localhost:8080/",
          "height": 314
        },
        "id": "XY6m-PSN50ag",
        "outputId": "870a2e79-ece3-4d85-dce5-13371c94d01d"
      },
      "source": [
        "# Draw accuracy graph during train + Evaluate model's accuracy with test dataset\n",
        "test_loss, test_acc = model.evaluate(x_test, y_test)\n",
        "print('accuracy: ', test_acc)\n",
        "\n",
        "plt.plot(history.history['accuracy'])\n",
        "plt.xlabel('Epoch')\n",
        "plt.ylabel('Accuracy')\n",
        "plt.show()"
      ],
      "execution_count": null,
      "outputs": [
        {
          "output_type": "stream",
          "name": "stdout",
          "text": [
            "157/157 [==============================] - 1s 3ms/step - loss: 0.7827 - accuracy: 0.8540\n",
            "accuracy:  0.8539999723434448\n"
          ]
        },
        {
          "output_type": "display_data",
          "data": {
            "image/png": "[encoded data removed]",
            "text/plain": [
              "<Figure size 432x288 with 1 Axes>"
            ]
          },
          "metadata": {
            "needs_background": "light"
          }
        }
      ]
    },
    {
      "cell_type": "code",
      "metadata": {
        "colab": {
          "base_uri": "https://localhost:8080/",
          "height": 281
        },
        "id": "873n2YRM6mF7",
        "outputId": "81aedba1-dac1-4ea8-940a-da01ad8e0cf5"
      },
      "source": [
        "# Select random one data and test + plot\n",
        "y_pred = model.predict(x_test)\n",
        "rand_idx = np.random.randint(0,5000)\n",
        "\n",
        "title = 'Label is : ' + str(np.argmax(y_test[rand_idx])) + ' and Predicted : ' + str(np.argmax(y_pred[rand_idx]))\n",
        "img = x_test[rand_idx].reshape(28,28)\n",
        "\n",
        "plt.imshow(img, cmap='gray')\n",
        "plt.title(title)\n",
        "plt.show()"
      ],
      "execution_count": null,
      "outputs": [
        {
          "output_type": "display_data",
          "data": {
            "image/png": "[encoded data removed]",
            "text/plain": [
              "<Figure size 432x288 with 1 Axes>"
            ]
          },
          "metadata": {
            "needs_background": "light"
          }
        }
      ]
    }
  ]
}