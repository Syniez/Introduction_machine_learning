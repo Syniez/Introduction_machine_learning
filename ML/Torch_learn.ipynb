{
  "nbformat": 4,
  "nbformat_minor": 0,
  "metadata": {
    "colab": {
      "name": "Torch_learn.ipynb",
      "provenance": [],
      "collapsed_sections": []
    },
    "kernelspec": {
      "name": "python3",
      "display_name": "Python 3"
    },
    "language_info": {
      "name": "python"
    },
    "accelerator": "GPU"
  },
  "cells": [
    {
      "cell_type": "code",
      "metadata": {
        "id": "EqCIBjRBR94j"
      },
      "source": [
        "import torch\n",
        "from torch import nn, optim\n",
        "import torch.nn.functional as F\n",
        "import numpy as np"
      ],
      "execution_count": 1,
      "outputs": []
    },
    {
      "cell_type": "code",
      "metadata": {
        "id": "WromtLkiSxtx"
      },
      "source": [
        "t1 = torch.Tensor(4, 6)\n",
        "t2 = torch.tensor([3.2, 4.3, 5.5])\n",
        "t3 = torch.tensor(np.array([[3.2], [4.3], [5.5]]))\n",
        "t4 = torch.rand(4, 6)\n",
        "\n",
        "#t5 = t1 + t2\n",
        "t6 = t2 * t3\n",
        "t7 = t2 @ t3.to(dtype=torch.float)\n",
        "\n",
        "t8 = t1.view(2, 12) # (2, -1)"
      ],
      "execution_count": 2,
      "outputs": []
    },
    {
      "cell_type": "code",
      "metadata": {
        "colab": {
          "base_uri": "https://localhost:8080/"
        },
        "id": "jhsF8ACoz6Lc",
        "outputId": "8f5ea722-86e2-400a-f701-1a4a56d62d5f"
      },
      "source": [
        "x = torch.tensor([1., 2., 3.], requires_grad = True)\n",
        "y = torch.tensor([4., 5., 6.], requires_grad = True)\n",
        "\n",
        "z = x + y\n",
        "z_sum = torch.sum(z)\n",
        "z_sum.backward()\n",
        "print(x.grad)"
      ],
      "execution_count": 13,
      "outputs": [
        {
          "output_type": "stream",
          "text": [
            "tensor([1., 1., 1.])\n"
          ],
          "name": "stdout"
        }
      ]
    },
    {
      "cell_type": "code",
      "metadata": {
        "colab": {
          "base_uri": "https://localhost:8080/"
        },
        "id": "P76kkU8U1OeE",
        "outputId": "530652b1-6efd-4a70-f4ab-76959cc46665"
      },
      "source": [
        "x = torch.empty(5, 3)\n",
        "y = torch.empty([5, 3])\n",
        "a = torch.rand(5, 4)\n",
        "\n",
        "tmp1 = torch.tensor([1,2])\n",
        "tmp2 = torch.tensor([2,3])\n",
        "print(tmp1 + tmp2)\n",
        "print(torch.add(tmp1, tmp2))"
      ],
      "execution_count": 16,
      "outputs": [
        {
          "output_type": "stream",
          "text": [
            "tensor([3, 5])\n",
            "tensor([3, 5])\n"
          ],
          "name": "stdout"
        }
      ]
    }
  ]
}